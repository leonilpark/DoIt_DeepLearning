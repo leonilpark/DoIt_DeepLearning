{
 "cells": [
  {
   "cell_type": "markdown",
   "metadata": {},
   "source": [
    "# 분류하는 뉴런을 만든다. - 이진분류"
   ]
  },
  {
   "cell_type": "markdown",
   "metadata": {},
   "source": [
    "## 초기 인공지능 알고리즘과 로지스틱 회귀를 알아본다"
   ]
  },
  {
   "cell_type": "markdown",
   "metadata": {},
   "source": [
    "### 퍼셉트론(Perceptron)\n",
    "\n",
    "+ 이진분류란 임의의 샘플 데이터를 True와 False로 구분하는 문제를 말한다.\n",
    "+ 퍼셉트론은 Linear Regression과 유사한 구조를 가지고 있음. -> 직선 방정식을 사용하기 때문\n",
    "+ 퍼셉트론은 마지막 단계에서 샘플을 이진 분류하기 위해 Step Function(계단함수)를 사용\n",
    "+ 그리고 계단 함수를 통과한 값을 다시 가중치와 절편을 업데이트(학습)하는데 사용\n",
    "\n",
    "\n",
    "+ w1x1 + w2x2 + b = z -> 선형함수 (w = 가중치, x = 입력)\n",
    "+ 일반화 : z = b+ sigma(i=1 ->n)wixi\n",
    "+ 계단함수는 z가 0보다 크거나 같으면 1, 0보다 작으면 -1로 분류\n",
    "+ 1 = 양성클래스(positive class), -1= 음성클래스(Negative class)\n",
    "+ 퍼셉트론은 계단함수의 결과를 사용하여 가중치와 절편을 업데이트"
   ]
  },
  {
   "cell_type": "markdown",
   "metadata": {},
   "source": [
    "### 퍼셉트론의 차세대 알고리즘 아달린(Adaline)\n",
    "\n",
    "+ 아달린(Adaline)은 다른 말로 적응형 선형 뉴런(Adaptive Linear Neuron)이라고도 한다.\n",
    "+ 아달린은 역방향 계산이 계단 함수 출력 이후에 일어나지 않고 선형 함수 출력 이후에 진행된다."
   ]
  },
  {
   "cell_type": "markdown",
   "metadata": {},
   "source": [
    "### 아달린의 차세대 알고리즘 로지스틱 회귀(Logistic Regression)\n",
    "\n",
    "+ 로지스틱 회귀는 선형 함수를 통과시켜 z를 임계 함수에 보내기 전에 변형시키는데 이런 함수를 활성화 함수(activation function)이라고 한다.\n",
    "+ 활성화 함수 = 로지스틱 시그모이드 함수 (p= 1/1+e^-z)\n",
    "+ 활성화 함수를 통과한 값을 a라고 표현단다.\n",
    "+ 로지스틱 마지막 단계에서 임계 함수(threshold function)을 사용해 예측을 진행\n",
    "\n",
    "+ 임계 함수는 아달린이나 퍼셉트론의 계단 함수와 역할은 비슷하지만 활성화 함수의 출력값을 사용한다는 점이 다르다."
   ]
  },
  {
   "cell_type": "markdown",
   "metadata": {},
   "source": [
    "## 시그모이드 함수로 확률을 만든다."
   ]
  },
  {
   "cell_type": "code",
   "execution_count": 1,
   "metadata": {},
   "outputs": [
    {
     "data": {
      "image/png": "[encoded data removed]",
      "text/plain": [
       "<Figure size 432x288 with 1 Axes>"
      ]
     },
     "metadata": {
      "needs_background": "light"
     },
     "output_type": "display_data"
    }
   ],
   "source": [
    "# 로지스틱 시그모이드 시각화\n",
    "\n",
    "# 로지스틱 회귀\n",
    "# 분류를 확률로 생각하는 방식\n",
    "# 어느 클래스에 분류되는지 구하는것 -> 함수가 필요(시그모이드 함수)\n",
    "import matplotlib.pyplot as plt\n",
    "import numpy as np\n",
    "def sigmoid(z):\n",
    "    return 1.0/(1.0+np.exp(-z))\n",
    "z = np.arange(-7,7,0.1)\n",
    "f_x = sigmoid(z)\n",
    "\n",
    "#시각화 코드\n",
    "plt.plot(z,f_x)\n",
    "plt.axvline(0.0, color = 'k')\n",
    "plt.ylim(-0.1,1.1)\n",
    "plt.xlabel('z')\n",
    "plt.ylabel('f(x)')\n",
    "\n",
    "plt.yticks([0.0,0.5,1.0])\n",
    "ax =plt.gca()\n",
    "ax.yaxis.grid(True)\n",
    "plt.tight_layout()\n",
    "plt.show()"
   ]
  },
  {
   "cell_type": "markdown",
   "metadata": {},
   "source": [
    "+ 시그모이드 함수는 z를 0~1 사이의 확률 값으로 변환시켜주는 역할을 한다.\n",
    "+ 즉, 시그모이드 함수를 통과한 값 a를 암 종양 판정에 사용하면 \"양성\"일 확률로 해석할 수 있음\n",
    "+ 확률을 해석하기 나름이지만 0.5를 경계선으로 판단한다"
   ]
  },
  {
   "cell_type": "markdown",
   "metadata": {},
   "source": [
    "### 시그모이드 함수가 만들어지는 과정\n",
    "\n",
    "\n",
    "+ 시그모이드 함수가 만들어지는 과정\n",
    "+ 오즈 비 -> 로짓 함수 -> 시그모이드 함수\n",
    "\n",
    "#### 오즈 비(Odds Ratio)란?\n",
    "+ 오즈 비는 성공확률과 실패확률의 비율을 나타내는 통계이며 다음과 같이 정의한다.\n",
    "+ OR = p/1-p(p는 성공 확률)\n",
    "+ 간단하게 성공확률/실패확률\n",
    "\n",
    "\n",
    "\n",
    "#### 로짓 함수(logit function)란?\n",
    "+ 오즈 비에 로그 함수를 취하여 만든 함수이다.\n",
    "+ logit(p) = log(OR)\n",
    "+ 로짓 함수는 p가 0.5일때 0이 되고 p가 0과 1일때 각각 무한대로 음수와 양수가 되는 특징을 가짐\n",
    "+ z = log(OR)\n",
    "\n",
    "\n",
    "\n",
    "#### 로지스틱 함수란?\n",
    "+ 로짓 함수를 z에 대해 정리한 것\n",
    "+ z에 대해 정리하는 이유는 가로 축을 z로 놓기 위함\n",
    "\n",
    "\n",
    "### 로지스틱 회귀 중간 정리하기\n",
    "+ a를 0과 1로 구분하기 위하여 임계함수를 적용(a>0.5,a<=0.5)\n",
    "+ 그 결과 (x)는 0 또는 1의 값으로 나누어짐. -> 이진분류"
   ]
  },
  {
   "cell_type": "markdown",
   "metadata": {},
   "source": [
    "## 분류용 데이터 세트를 준비합니다"
   ]
  },
  {
   "cell_type": "code",
   "execution_count": 2,
   "metadata": {},
   "outputs": [
    {
     "name": "stdout",
     "output_type": "stream",
     "text": [
      "(569, 30) (569,)\n"
     ]
    },
    {
     "data": {
      "image/png": "[encoded data removed]",
      "text/plain": [
       "<Figure size 432x288 with 1 Axes>"
      ]
     },
     "metadata": {
      "needs_background": "light"
     },
     "output_type": "display_data"
    }
   ],
   "source": [
    "# 유방암 데이터 세트 준비하기\n",
    "# load_breast_cancer() 함수 호출하기\n",
    "import matplotlib.pyplot as plt\n",
    "import numpy as np\n",
    "\n",
    "from sklearn.datasets import load_breast_cancer\n",
    "cancer = load_breast_cancer()\n",
    "\n",
    "print(cancer.data.shape, cancer.target.shape)\n",
    "\n",
    "#박스플롯으로 특성의 사분위 관찰하기\n",
    "plt.boxplot(cancer.data)\n",
    "plt.xlabel('feature')\n",
    "plt.ylabel('value')\n",
    "plt.show()"
   ]
  },
  {
   "cell_type": "code",
   "execution_count": 3,
   "metadata": {},
   "outputs": [
    {
     "data": {
      "text/plain": [
       "array(['mean area', 'area error', 'worst area'], dtype='<U23')"
      ]
     },
     "execution_count": 3,
     "metadata": {},
     "output_type": "execute_result"
    }
   ],
   "source": [
    "# 눈에 띄는 특성 살펴보기\n",
    "# 박스플롯의 결과 4,14,24번째 특성이 눈에 잘 띄임\n",
    "cancer.feature_names[[3,13,23]]"
   ]
  },
  {
   "cell_type": "code",
   "execution_count": 4,
   "metadata": {},
   "outputs": [
    {
     "data": {
      "text/plain": [
       "(array([0, 1]), array([212, 357]))"
      ]
     },
     "execution_count": 4,
     "metadata": {},
     "output_type": "execute_result"
    }
   ],
   "source": [
    "# 타깃 데이터 확인하기\n",
    "# unique()를 사용하면 고유한 값을 찾아 반환한다.\n",
    "# cancer.target 배열 안에는 0과 1이 있는데 이것은 이진분류를 나타낸것\n",
    "# return_counts 매개변수를 True로 지정하면 고유한 값이 등장하는 횟수까지 세어 반환.\n",
    "\n",
    "np.unique(cancer.target,return_counts = True)"
   ]
  },
  {
   "cell_type": "code",
   "execution_count": 5,
   "metadata": {},
   "outputs": [],
   "source": [
    "# 훈련 데이터셋 저장\n",
    "x = cancer.data\n",
    "y = cancer.target"
   ]
  },
  {
   "cell_type": "markdown",
   "metadata": {},
   "source": [
    "## 로지스틱 회귀를 위한 뉴런을 만든다"
   ]
  },
  {
   "cell_type": "markdown",
   "metadata": {},
   "source": [
    "### 모델의 성능 평가를 위한 훈련 세트와 테스트 세트\n",
    "+ 훈련된 모델의 실전 성능을 일반화성능(gerneralization performance)라고 한다.\n",
    "+  훈련 데이터셋 = 훈련 셋 + 테스트 셋\n",
    "\n",
    "### 훈련 데이터셋을 훈련 셋과 테스트 셋으로 나누는 규칙\n",
    "+ 훈련 데이터 세트를 나눌 때는 테스트 세트보다 훈련 세트가 더 많아야함\n",
    "+ 훈련 데이터 세트를 나누기 전에 양성,음성 클래스가 훈련 세트나 테스트 세트의 어느 한쪽에\n",
    "몰리지 않도록 골고루 섞어야 함."
   ]
  },
  {
   "cell_type": "code",
   "execution_count": 6,
   "metadata": {},
   "outputs": [
    {
     "name": "stdout",
     "output_type": "stream",
     "text": [
      "(455, 30) (114, 30)\n"
     ]
    },
    {
     "data": {
      "text/plain": [
       "(array([0, 1]), array([170, 285]))"
      ]
     },
     "execution_count": 6,
     "metadata": {},
     "output_type": "execute_result"
    }
   ],
   "source": [
    "# train_test_split()함수로 훈련 데이터셋 나누기\n",
    "from sklearn.model_selection import train_test_split\n",
    "#train_test_split() 함수에 입력데이터 x, 타깃 데이터 y와 그 밖의 설정을 매개변수로 지정하면 된다.\n",
    "x_train, x_test, y_train, y_test = train_test_split(x,y,stratify=y,\n",
    "                                                   test_size=0.2,\n",
    "                                                   random_state=42)\n",
    "\n",
    "# 1. stratify는 훈련 데이터를 나눌 때 클래스 비율을 동일하게 만든다\n",
    "# train_test_split()함수는 기본적을 ㅗ데이터를 나누기 전에 섞지만 일부 클래스 비율이 불균형한 경우엔 stratify를 y로 지정해야 한다.\n",
    "\n",
    "# 2. test_size는 비율을 조정한다\n",
    "# train_test_split()은 75:25의 비율로 나누지만 test_size에 매개변수를 지정해주면\n",
    "# 다른 비율로도 조정이 가능하다.\n",
    "\n",
    "# 3. random_state = 난수 초기값 지정\n",
    "\n",
    "\n",
    "\n",
    "# 결과 확인하기\n",
    "print(x_train.shape, x_test.shape)\n",
    "\n",
    "# unique()로 훈련 세트의 타깃 확인\n",
    "np.unique(y_train,return_counts= True)"
   ]
  },
  {
   "cell_type": "code",
   "execution_count": 7,
   "metadata": {},
   "outputs": [
    {
     "name": "stderr",
     "output_type": "stream",
     "text": [
      "/Users/leonilpark/opt/anaconda3/lib/python3.7/site-packages/ipykernel_launcher.py:30: RuntimeWarning: overflow encountered in exp\n"
     ]
    },
    {
     "data": {
      "text/plain": [
       "0.8245614035087719"
      ]
     },
     "execution_count": 7,
     "metadata": {},
     "output_type": "execute_result"
    }
   ],
   "source": [
    "# 로지스틱 회귀 구현하기\n",
    "class LogisticNeuron:\n",
    "    def __init__(self):\n",
    "        self.w = None\n",
    "        self.b = None\n",
    "    \n",
    "    def forpass(self,x):\n",
    "        z = np.sum(x*self.w)+self.b\n",
    "        return z\n",
    "    \n",
    "    def backprop(self,x,err):\n",
    "        w_grad  = x*err\n",
    "        b_grad = 1*err\n",
    "        return w_grad,b_grad\n",
    "    \n",
    "#훈련하는 메서드 구현\n",
    "    def fit(self,x,y,epochs=100):\n",
    "        self.w =np.ones(x.shape[1])\n",
    "        self.b = 0\n",
    "        for i in range(epochs):\n",
    "            for x_i,y_i in zip(x,y):\n",
    "                z = self.forpass(x_i)\n",
    "                a = self.activation(z)\n",
    "                err = -(y_i - a)\n",
    "                w_grad,b_grad = self.backprop(x_i,err)\n",
    "                self.w -= w_grad\n",
    "                self.b -= b_grad\n",
    "                \n",
    "    def activation(self,z):\n",
    "        a = 1/(1+np.exp(-z))\n",
    "        return a\n",
    "\n",
    "#예측하는 메소드 구현\n",
    "    def predict(self,x):\n",
    "        z = [self.forpass(x_i) for x_i in x]\n",
    "        a = self.activation(np.array(z))\n",
    "        return a >0.5\n",
    "\n",
    "# 모델 훈련하기\n",
    "neuron = LogisticNeuron()\n",
    "neuron.fit(x_train,y_train)\n",
    "# 정확도 ㅍ여가하기\n",
    "np.mean(neuron.predict(x_test) == y_test)"
   ]
  },
  {
   "cell_type": "markdown",
   "metadata": {},
   "source": [
    "## 로지스틱 회귀 뉴런으로 단일층 신경망을 만듭니다"
   ]
  },
  {
   "cell_type": "markdown",
   "metadata": {},
   "source": [
    "### 일반적인 신경망의 모습을 알아보자\n",
    "+ 로지스틱 회귀는 Hidden layer가 없는 신경망\n",
    "+ 입력층과 출력층만 가지는 신경망을 단일층 신경망이라고 함"
   ]
  },
  {
   "cell_type": "markdown",
   "metadata": {},
   "source": [
    "### 단일층 신경망을 구현한다.\n",
    "+ 경사 하강법은 손실함수의 결과값을 최소화 하는 방향으로 가중치를 업데이트 했음\n",
    "+ If 손실 함수의 결과값이 줄어들지 않는다면 뭔가 잘못된 것이니 값을 관찰해보기 바람"
   ]
  },
  {
   "cell_type": "markdown",
   "metadata": {},
   "source": [
    "### 여러 가지 경사 하강법에 대해 알아보자\n",
    "+ 지금까지 사용한 경사하강법은 샘플 데이터 1개에 대한 그레디언트를 계산했음\n",
    "+ ㄴ 를 확률적 경사 하강법(stochastic gradient descent)라고 함\n",
    "\n",
    "\n",
    "+ 전체 훈련 세트를 사용하여 한번에 그레디언트를 계산하는 방식 = 배치 경사 하강법\n",
    "+ 배치(batch) 크기를 작게 하여 처리하는 방식인 미니배치 경사 하강법이 있다.\n",
    "\n",
    "\n",
    "+ 미니 배치 경사 하강법\n",
    "+ 1. 전체 샘플 중 몇개의 샘플을 중복되지 않도록 무작위로 진행\n",
    "+ 2. 그레디언트 계산\n",
    "\n",
    "+ 확률적 경사 하강법은 샘플 각각 그레디언트를 계산하여 가중치를 업데이트하므로\n",
    "\n",
    "최적의 값에 도달하는 과정이 불안정함\n",
    "\n",
    "\n",
    "+ 배치 경사 하강법은 전체 훈련 데이터셋을 사용하여 한 번에 그레디언트를 계산하므로\n",
    "\n",
    "가중치가 최적값에 수렴하는 과정은 안정적이지만 비용이 많이 듬\n",
    "\n",
    "\n",
    "+ 미니 배치 경사 하강법 = 위 두개의 하강법에서 장점을 절충한 것\n",
    "\n",
    "\n",
    "\n",
    "+ 매 에포크마다 훈련 세트의 샘플 순서를 섞어 사용하기\n",
    "+ 훈련 세트의 샘플 순서를 섞으면 가중치 최적값의 탐색 과정이 다양해져 가중치 최적값을 제대로 찾을 수 있다.\n",
    "+ 훈련 세트의 샘플 순서를 섞는 전형적인 방법은 넘파이 배열의 인덱스를 섞은 후 인덱스 순서대로 샘플을 뽑는 것\n",
    "+ 이를 np.random.permutation() 함수를 사용한다."
   ]
  },
  {
   "cell_type": "code",
   "execution_count": 13,
   "metadata": {},
   "outputs": [],
   "source": [
    "# 손실 함수의 결과값 조정해 저장 기능 추가하기\n",
    "class SingleLayer:\n",
    "    def __init__(self):\n",
    "        self.w = None\n",
    "        self.b = None\n",
    "        self.losses = []\n",
    "    \n",
    "    def forpass(self,x):\n",
    "        z = np.sum(x*self.w)+self.b\n",
    "        return z\n",
    "    \n",
    "    def backprop(self,x,err):\n",
    "        w_grad  = x*err\n",
    "        b_grad = 1*err\n",
    "        return w_grad,b_grad\n",
    "    \n",
    "#훈련하는 메서드 구현\n",
    "    def fit(self,x,y,epochs=100):\n",
    "        self.w =np.ones(x.shape[1])\n",
    "        self.b = 0\n",
    "        for i in range(epochs):\n",
    "            loss = 0\n",
    "            indexes = np.random.permutation(np.arange(len(x)))\n",
    "            for i in index: #모든 샘플에 대해 반복\n",
    "                z = self.forpass(x_i) #정방향 계산\n",
    "                a = self.activation(z) #활성화 함수 적용\n",
    "                err = -(y_i - a) #오차 계산\n",
    "                w_grad,b_grad = self.backprop(x_i,err) #역방향 계산\n",
    "                self.w -= w_grad #가중치 업데이트\n",
    "                self.b -= b_grad #절편 업데이트\n",
    "                #안전한 로그 계산을 위해 클리핑한 후 손실을 누적한다.\n",
    "                #클리핑 = 범위지정\n",
    "                # 범위를 보면 1의 차이가 나는 것을 볼 수 가 있는데 로지스틱 시그모이드의 범위가 1이기 때문\n",
    "                a = np.clip(a,1e-10,1-1e-10)\n",
    "                loss += -(y[i]*no.log(a)+(1-y[i]*np.loa(1-a)))\n",
    "            self.losses.append(loss/len(y)) #에포크마다 평균 손실을 저장한다.\n"
   ]
  },
  {
   "cell_type": "code",
   "execution_count": 14,
   "metadata": {},
   "outputs": [],
   "source": [
    "# score() 메소드 추가하기\n",
    "# 정확도를 계산해주는 메소드를 추가하고 predict()도 수정함\n",
    "# score()에서는 np.mean()함수를 사용\n",
    "def predict(self,x):\n",
    "        z = [self.forpass(x_i) for x_i in x]\n",
    "        return np.array(z) > 0\n",
    "def score(self, x, y):\n",
    "    return np.mean(self.predict(x) == y)"
   ]
  },
  {
   "cell_type": "code",
   "execution_count": 28,
   "metadata": {},
   "outputs": [
    {
     "name": "stderr",
     "output_type": "stream",
     "text": [
      "/Users/leonilpark/opt/anaconda3/lib/python3.7/site-packages/ipykernel_launcher.py:25: RuntimeWarning: overflow encountered in exp\n"
     ]
    },
    {
     "data": {
      "image/png": "[encoded data removed]",
      "text/plain": [
       "<Figure size 432x288 with 1 Axes>"
      ]
     },
     "metadata": {
      "needs_background": "light"
     },
     "output_type": "display_data"
    }
   ],
   "source": [
    "# 단일층 신경망 훈련하기\n",
    "\n",
    "\n",
    "\n",
    "# 손실 함수의 결과값 조정해 저장 기능 추가하기\n",
    "class Singlelayer:\n",
    "    def __init__(self):\n",
    "        self.w = None\n",
    "        self.b = None\n",
    "        self.losses = []\n",
    "    \n",
    "    def forpass(self,x):\n",
    "        z = np.sum(x*self.w)+self.b\n",
    "        return z\n",
    "    \n",
    "    def backprop(self,x,err):\n",
    "        w_grad  = x*err\n",
    "        b_grad = 1*err\n",
    "        return w_grad,b_grad\n",
    "    \n",
    "    def add_bias(self,x):\n",
    "        return np.c_[np.pones((x.shape[0],1)),x]\n",
    "    \n",
    "    def activation(self,z):\n",
    "        a = 1 / (1+np.exp(-z))\n",
    "        return a\n",
    "    \n",
    "#훈련하는 메서드 구현\n",
    "    def fit(self,x,y,epochs=100):\n",
    "        self.w =np.ones(x.shape[1])\n",
    "        self.b = 0\n",
    "        for i in range(epochs):\n",
    "            loss = 0\n",
    "            indexes = np.random.permutation(np.arange(len(x)))\n",
    "            for i in indexes: #모든 샘플에 대해 반복\n",
    "                z = self.forpass(x[i]) #정방향 계산\n",
    "                a = self.activation(z) #활성화 함수 적용\n",
    "                err = -(y[i] - a) #오차 계산\n",
    "                w_grad,b_grad = self.backprop(x[i],err) #역방향 계산\n",
    "                self.w -= w_grad #가중치 업데이트\n",
    "                self.b -= b_grad #절편 업데이트\n",
    "                #안전한 로그 계산을 위해 클리핑한 후 손실을 누적한다.\n",
    "                #클리핑 = 범위지정\n",
    "                # 범위를 보면 1의 차이가 나는 것을 볼 수 가 있는데 로지스틱 시그모이드의 범위가 1이기 때문\n",
    "                a = np.clip(a,1e-10,1-1e-10)\n",
    "                loss += -(y[i]*np.log(a)+(1-y[i])*np.log(1-a))\n",
    "            self.losses.append(loss/len(y)) #에포크마다 평균 손실을 저장한다.\n",
    "    def predict(self,x):\n",
    "        z = [self.forpass(x_i) for x_i in x]\n",
    "        return np.array(z) > 0\n",
    "    def score(self, x, y):\n",
    "        return np.mean(self.predict(x) == y)\n",
    "\n",
    "# 1. 단일층 신경망 훈련하고 정확도 출력하기\n",
    "layer = Singlelayer()\n",
    "layer.fit(x_train,y_train)\n",
    "layer.score(x_test,y_test)\n",
    "# -> 에포크마다 훈련 셋을 무작위로 섞어 손실 함수의 값을 줄임\n",
    "\n",
    "# 2. 손실 함수 누적값 확인하기\n",
    "plt.plot(layer.losses)\n",
    "plt.xlabel('epoch')\n",
    "plt.ylabel('loss')\n",
    "plt.show()"
   ]
  },
  {
   "cell_type": "markdown",
   "metadata": {},
   "source": [
    "## 사이킷런으로 로지스틱 회귀를 수행하는 방법"
   ]
  },
  {
   "cell_type": "code",
   "execution_count": 35,
   "metadata": {},
   "outputs": [
    {
     "data": {
      "text/plain": [
       "array([0, 1, 0, 0, 0, 0, 1, 0, 0, 0])"
      ]
     },
     "execution_count": 35,
     "metadata": {},
     "output_type": "execute_result"
    }
   ],
   "source": [
    "# 로지스틱 경사 하강법 적용하기\n",
    "from sklearn.linear_model import SGDClassifier\n",
    "# 1. 로지스틱 손실 함수 지정하기\n",
    "sgd = SGDClassifier(loss ='log', max_iter = 100, tol =1e-3, random_state = 42)\n",
    "# max_iter를 통해 반복 횟수를 100으로 지정하고 반복 실행했을 때 결과를 동일하게 재현하기 위해\n",
    "# random_state를 통해 난수 초깃값을 42로 설정\n",
    "# 반복할 때마다 로지스틱 손실 함수의 값이 tol에 지정한 값만큼 감소되지 않으면 반복을 중단하도록 설정\n",
    "# 만약 tol의 값을 설정하지 않으면 max_iter의 값을 늘리라는 경고가 발생.\n",
    "# 이는 모델의 로지스틱 손실 함수의 값이 최적값으로 수렴할 정도로 충분한 반복 횟수를 입력했는지 사용자에게 알려주므로 유용\n",
    "\n",
    "# 2. 사이킷런으로 훈련하고 평가하기\n",
    "sgd.fit(x_train,y_train)\n",
    "sgd.score(x_test,y_test)\n",
    "\n",
    "# 3. 사이킷런으로 예측하기\n",
    "sgd.predict(x_test[0:10])"
   ]
  },
  {
   "cell_type": "code",
   "execution_count": null,
   "metadata": {},
   "outputs": [],
   "source": []
  }
 ],
 "metadata": {
  "kernelspec": {
   "display_name": "Python 3",
   "language": "python",
   "name": "python3"
  },
  "language_info": {
   "codemirror_mode": {
    "name": "ipython",
    "version": 3
   },
   "file_extension": ".py",
   "mimetype": "text/x-python",
   "name": "python",
   "nbconvert_exporter": "python",
   "pygments_lexer": "ipython3",
   "version": "3.7.6"
  },
  "toc": {
   "base_numbering": 1,
   "nav_menu": {},
   "number_sections": true,
   "sideBar": true,
   "skip_h1_title": false,
   "title_cell": "Table of Contents",
   "title_sidebar": "Contents",
   "toc_cell": false,
   "toc_position": {},
   "toc_section_display": true,
   "toc_window_display": false
  }
 },
 "nbformat": 4,
 "nbformat_minor": 4
}
